{
 "cells": [
  {
   "cell_type": "markdown",
   "source": [
    "# Data Parsing"
   ],
   "metadata": {}
  },
  {
   "cell_type": "code",
   "execution_count": 12,
   "source": [
    "import glob\n",
    "# import dlib\n",
    "import numpy as np\n",
    "import math\n",
    "# import face_recognition\n",
    "import random\n",
    "# import cv2        \n",
    "from pathlib import Path\n",
    "import random\n",
    "\n",
    "\n",
    "\n",
    "dir_list = glob.glob(\"/vision-quickstart/CaptureApp/\")\n",
    "dir_list"
   ],
   "outputs": [
    {
     "output_type": "execute_result",
     "data": {
      "text/plain": [
       "[]"
      ]
     },
     "metadata": {},
     "execution_count": 12
    }
   ],
   "metadata": {}
  },
  {
   "cell_type": "code",
   "execution_count": 17,
   "source": [
    "df = pd.read_csv(dir_list[0]+\"log.csv\")\n",
    "df"
   ],
   "outputs": [
    {
     "output_type": "error",
     "ename": "NameError",
     "evalue": "name 'pd' is not defined",
     "traceback": [
      "\u001b[0;31m---------------------------------------------------------------------------\u001b[0m",
      "\u001b[0;31mNameError\u001b[0m                                 Traceback (most recent call last)",
      "\u001b[0;32m/var/folders/p7/zfs800rs4rg536zy5cltpg3m0000gn/T/ipykernel_76497/1971961425.py\u001b[0m in \u001b[0;36m<module>\u001b[0;34m\u001b[0m\n\u001b[0;32m----> 1\u001b[0;31m \u001b[0mdf\u001b[0m \u001b[0;34m=\u001b[0m \u001b[0mpd\u001b[0m\u001b[0;34m.\u001b[0m\u001b[0mread_csv\u001b[0m\u001b[0;34m(\u001b[0m\u001b[0mdir_list\u001b[0m\u001b[0;34m[\u001b[0m\u001b[0;36m0\u001b[0m\u001b[0;34m]\u001b[0m\u001b[0;34m+\u001b[0m\u001b[0;34m\"log.csv\"\u001b[0m\u001b[0;34m)\u001b[0m\u001b[0;34m\u001b[0m\u001b[0;34m\u001b[0m\u001b[0m\n\u001b[0m\u001b[1;32m      2\u001b[0m \u001b[0mdf\u001b[0m\u001b[0;34m\u001b[0m\u001b[0;34m\u001b[0m\u001b[0m\n",
      "\u001b[0;31mNameError\u001b[0m: name 'pd' is not defined"
     ]
    }
   ],
   "metadata": {}
  },
  {
   "cell_type": "code",
   "execution_count": 3,
   "source": [
    "file_name = df[\"count\"].tolist()\n",
    "len(file_name)\n",
    "\n",
    "leftEyeleft = df[\"leftEyeleft\"].tolist()\n",
    "leftEyetop = df[\"leftEyetop\"].tolist()\n",
    "rightEyeright = df[\"rightEyeright\"].tolist()\n",
    "rightEyebottom = df[\"rightEyebottom\"].tolist()"
   ],
   "outputs": [],
   "metadata": {}
  },
  {
   "cell_type": "code",
   "execution_count": 4,
   "source": [
    "# rightEyebottom"
   ],
   "outputs": [],
   "metadata": {}
  },
  {
   "cell_type": "code",
   "execution_count": 5,
   "source": [
    "import glob\n",
    "# import dlib\n",
    "import numpy as np\n",
    "import pandas as pd\n",
    "import math\n",
    "from PIL import Image, ImageDraw\n",
    "# import face_recognition\n",
    "import random\n",
    "# import cv2     \n",
    "from pathlib import Path\n",
    "import random\n",
    "from tqdm import tqdm\n",
    "\n",
    "################################################################################\n",
    "# Config Values\n",
    "#\n",
    "# resolution: decides in what resolution \n",
    "#           you want to save face, lefteye, righteye\n",
    "#           Ex) 64, 224\n",
    "# image_type: decide in what type (in Pillow lib) you want to store\n",
    "#           your face, lefteye, righteye image\n",
    "#           Ex) \"RGB\", \"L\"\n",
    "################################################################################\n",
    "\n",
    "resolution=64\n",
    "image_type = \"RGB\"\n",
    "basedir = '/special/jbpark/TabS6/'\n",
    "target = 'Joonbeom/'\n",
    "\n",
    "left_eye = []\n",
    "right_eye = []\n",
    "gaze_point = []\n",
    "left_eye_right_top = []\n",
    "left_eye_left_bottom = []\n",
    "right_eye_right_top = []\n",
    "right_eye_left_bottom = []\n",
    "euler = []\n",
    "face_grid = []\n",
    "left_eye_grid = []\n",
    "right_eye_grid = []\n",
    "facepos = []\n",
    "\n",
    "dir_name = basedir + target\n",
    "df = pd.read_csv(dir_name+\"log.csv\")\n",
    "file_name = df[\"count\"].tolist()\n",
    "im = Image.open(dir_name+\"lefteye/\"+str(file_name[0]).zfill(5)+\".jpg\").convert(image_type)\n",
    "gazeX = df[\"gazeX\"].tolist()\n",
    "gazeY = df[\"gazeY\"].tolist()\n",
    "eulerX = df[\"eulerX\"].tolist()\n",
    "eulerY = df[\"eulerY\"].tolist()\n",
    "eulerZ = df[\"eulerZ\"].tolist()\n",
    "faceX = df[\"faceX\"].tolist()\n",
    "faceY = df[\"faceY\"].tolist()\n",
    "leftEyeleft = df[\"leftEyeleft\"].tolist()\n",
    "leftEyetop = df[\"leftEyetop\"].tolist()\n",
    "leftEyeright = df[\"leftEyeright\"].tolist()\n",
    "leftEyebottom = df[\"leftEyebottom\"].tolist()\n",
    "rightEyeleft = df[\"rightEyeleft\"].tolist()\n",
    "rightEyetop = df[\"rightEyetop\"].tolist()\n",
    "rightEyeright = df[\"rightEyeright\"].tolist()\n",
    "rightEyebottom = df[\"rightEyebottom\"].tolist()\n",
    "\n",
    "\n",
    "for i in tqdm(range(len(file_name))):\n",
    "    left_eye_image = np.asarray(Image.open(dir_name+\"lefteye/\"+str(file_name[i]).zfill(5)+\".jpg\").convert(image_type).resize((resolution,resolution)))/255\n",
    "    right_eye_image = np.asarray(Image.open(dir_name+\"righteye/\"+str(file_name[i]).zfill(5)+\".jpg\").convert(image_type).resize((resolution,resolution)))/255\n",
    "    left_eye.append(left_eye_image)\n",
    "    right_eye.append(right_eye_image)\n",
    "    facegrid = np.genfromtxt (dir_name+\"facegrid/\"+str(file_name[i]).zfill(5)+\".csv\", delimiter=\",\")\n",
    "    face_grid.append(facegrid)\n",
    "    lefteyegrid = np.genfromtxt (dir_name+\"lefteyegrid/\"+str(file_name[i]).zfill(5)+\".csv\", delimiter=\",\")\n",
    "    left_eye_grid.append(lefteyegrid)\n",
    "    righteyegrid = np.genfromtxt (dir_name+\"righteyegrid/\"+str(file_name[i]).zfill(5)+\".csv\", delimiter=\",\")\n",
    "    right_eye_grid.append(righteyegrid)\n",
    "\n",
    "    gaze_point.append([float(gazeX[i]),float(gazeY[i])])\n",
    "    euler.append([float(eulerX[i]), float(eulerY[i]), float(eulerZ[i])])\n",
    "    facepos.append([float(faceX[i]), float(faceY[i])])\n",
    "    left_eye_right_top.append([float(leftEyeright[i]), float(leftEyetop[i])])\n",
    "    left_eye_left_bottom.append([float(leftEyeleft[i]), float(leftEyebottom[i])])\n",
    "    right_eye_right_top.append([float(rightEyeright[i]), float(rightEyetop[i])])\n",
    "    right_eye_left_bottom.append([float(rightEyeleft[i]), float(rightEyebottom[i])])\n",
    "        \n",
    "left_eye = np.asarray(left_eye)\n",
    "right_eye = np.asarray(right_eye)\n",
    "gaze_point = np.asarray(gaze_point)\n",
    "face_grid = np.asarray(face_grid)\n",
    "left_eye_grid = np.asarray(left_eye_grid)\n",
    "right_eye_grid = np.asarray(right_eye_grid)\n",
    "euler = np.asarray(euler)\n",
    "facepos = np.asarray(facepos)\n",
    "left_eye_right_top = np.asarray(left_eye_right_top)\n",
    "left_eye_left_bottom = np.asarray(left_eye_left_bottom)\n",
    "right_eye_right_top = np.asarray(right_eye_right_top)\n",
    "right_eye_left_bottom = np.asarray(right_eye_left_bottom)\n",
    "\n",
    "save_dir=\"/special/jbpark/TabS6\"+image_type+\"Data/\"+target\n",
    "Path(save_dir).mkdir(parents=True, exist_ok=True)\n",
    "             \n",
    "#save to File\n",
    "np.save(save_dir+\"gaze_point.npy\",gaze_point)\n",
    "np.save(save_dir+\"left_eye.npy\",left_eye)\n",
    "np.save(save_dir+\"right_eye.npy\",right_eye)\n",
    "np.save(save_dir+\"face_grid.npy\",face_grid)\n",
    "np.save(save_dir+\"left_eye_grid.npy\",left_eye_grid)\n",
    "np.save(save_dir+\"right_eye_grid.npy\",right_eye_grid)\n",
    "np.save(save_dir+\"euler.npy\",euler)\n",
    "np.save(save_dir+\"facepos.npy\",facepos)\n",
    "np.save(save_dir+\"left_eye_right_top.npy\",left_eye_right_top)\n",
    "np.save(save_dir+\"left_eye_left_bottom.npy\",left_eye_left_bottom)\n",
    "np.save(save_dir+\"right_eye_right_top.npy\",right_eye_right_top)\n",
    "np.save(save_dir+\"right_eye_left_bottom.npy\",right_eye_left_bottom)"
   ],
   "outputs": [
    {
     "output_type": "stream",
     "name": "stderr",
     "text": [
      "100%|██████████| 5052/5052 [00:43<00:00, 115.23it/s]\n"
     ]
    }
   ],
   "metadata": {}
  },
  {
   "cell_type": "code",
   "execution_count": 6,
   "source": [
    "left_eye_right_top"
   ],
   "outputs": [
    {
     "output_type": "execute_result",
     "data": {
      "text/plain": [
       "array([[ 725.70685, 1600.665  ],\n",
       "       [ 721.96   , 1600.665  ],\n",
       "       [ 717.46375, 1603.2878 ],\n",
       "       ...,\n",
       "       [ 703.975  ,  751.2485 ],\n",
       "       [ 712.2181 ,  748.6257 ],\n",
       "       [ 711.46875,  753.1219 ]])"
      ]
     },
     "metadata": {},
     "execution_count": 6
    }
   ],
   "metadata": {}
  },
  {
   "cell_type": "code",
   "execution_count": 7,
   "source": [
    "print(right_eye_grid.shape)\n",
    "print(left_eye_grid.shape)\n",
    "print(face_grid.shape)\n",
    "print(facepos.shape)\n",
    "print(left_eye_right_top.shape)"
   ],
   "outputs": [
    {
     "output_type": "stream",
     "name": "stdout",
     "text": [
      "(5052, 50, 50)\n",
      "(5052, 50, 50)\n",
      "(5052, 25, 25)\n",
      "(5052, 2)\n",
      "(5052, 2)\n"
     ]
    }
   ],
   "metadata": {}
  },
  {
   "cell_type": "code",
   "execution_count": 8,
   "source": [
    "split_length = int(len(gaze_point)*0.9)\n",
    "target_list = []\n",
    "for i in range(len(gaze_point)):\n",
    "    target_list.append([\n",
    "        left_eye[i], right_eye[i], gaze_point[i], euler[i],\n",
    "        face_grid[i], left_eye_grid[i], right_eye_grid[i], facepos[i],\n",
    "        left_eye_right_top[i], left_eye_left_bottom[i], right_eye_right_top[i], right_eye_left_bottom[i]\n",
    "    ])\n",
    "\n",
    "random.shuffle(target_list)\n",
    "\n",
    "train_data = target_list[:split_length]\n",
    "test_data = target_list[split_length:]\n",
    "np_train_data = np.asarray(train_data)\n",
    "np_test_data = np.asarray(test_data)\n",
    "\n",
    "train_left_eye_list=[]\n",
    "train_right_eye_list=[]\n",
    "train_gaze_point_list=[]\n",
    "train_euler_list=[]\n",
    "train_face_grid=[]\n",
    "train_left_eye_grid=[]\n",
    "train_right_eye_grid=[]\n",
    "train_facepos=[]\n",
    "train_left_eye_right_top = []\n",
    "train_left_eye_left_bottom = []\n",
    "train_right_eye_right_top = []\n",
    "train_right_eye_left_bottom = []\n",
    "\n",
    "for i in range(len(np_train_data)):\n",
    "    train_left_eye_list.append(np_train_data[i][0])\n",
    "    train_right_eye_list.append(np_train_data[i][1])\n",
    "    train_gaze_point_list.append(np_train_data[i][2])\n",
    "    train_euler_list.append(np_train_data[i][3])\n",
    "    train_face_grid.append(np_train_data[i][4])\n",
    "    train_left_eye_grid.append(np_train_data[i][5])\n",
    "    train_right_eye_grid.append(np_train_data[i][6])\n",
    "    train_facepos.append(np_train_data[i][7])\n",
    "    train_left_eye_right_top.append(np_train_data[i][8])\n",
    "    train_left_eye_left_bottom.append(np_train_data[i][9])\n",
    "    train_right_eye_right_top.append(np_train_data[i][10])\n",
    "    train_right_eye_left_bottom.append(np_train_data[i][11])\n",
    "    \n",
    "test_left_eye_list=[]\n",
    "test_right_eye_list=[]\n",
    "test_gaze_point_list=[]\n",
    "test_euler_list=[]\n",
    "test_face_grid=[]\n",
    "test_left_eye_grid=[]\n",
    "test_right_eye_grid=[]\n",
    "test_facepos=[]\n",
    "test_left_eye_right_top = []\n",
    "test_left_eye_left_bottom = []\n",
    "test_right_eye_right_top = []\n",
    "test_right_eye_left_bottom = []\n",
    "\n",
    "for i in range(len(np_test_data)):\n",
    "    test_left_eye_list.append(np_test_data[i][0])\n",
    "    test_right_eye_list.append(np_test_data[i][1])\n",
    "    test_gaze_point_list.append(np_test_data[i][2])\n",
    "    test_euler_list.append(np_test_data[i][3])\n",
    "    test_face_grid.append(np_test_data[i][4])\n",
    "    test_left_eye_grid.append(np_test_data[i][5])\n",
    "    test_right_eye_grid.append(np_test_data[i][6])\n",
    "    test_facepos.append(np_test_data[i][7])\n",
    "    test_left_eye_right_top.append(np_test_data[i][8])\n",
    "    test_left_eye_left_bottom.append(np_test_data[i][9])\n",
    "    test_right_eye_right_top.append(np_test_data[i][10])\n",
    "    test_right_eye_left_bottom.append(np_test_data[i][11])\n",
    "\n",
    "np_train_gaze_point_list = np.asarray(train_gaze_point_list)\n",
    "np_train_right_eye_list = np.asarray(train_right_eye_list)\n",
    "np_train_left_eye_list = np.asarray(train_left_eye_list)\n",
    "np_train_euler_list = np.asarray(train_euler_list)\n",
    "np_train_face_grid = np.asarray(train_face_grid)\n",
    "np_train_left_eye_grid = np.asarray(train_left_eye_grid)\n",
    "np_train_right_eye_grid = np.asarray(train_right_eye_grid)\n",
    "np_train_facepos = np.asarray(train_facepos)\n",
    "np_train_left_eye_right_top = np.asarray(train_left_eye_right_top)\n",
    "np_train_left_eye_left_bottom = np.asarray(train_left_eye_left_bottom)\n",
    "np_train_right_eye_right_top = np.asarray(train_right_eye_right_top)\n",
    "np_train_right_eye_left_bottom = np.asarray(train_right_eye_left_bottom)\n",
    "\n",
    "np_test_gaze_point_list = np.asarray(test_gaze_point_list)\n",
    "np_test_right_eye_list = np.asarray(test_right_eye_list)\n",
    "np_test_left_eye_list = np.asarray(test_left_eye_list)\n",
    "np_test_euler_list = np.asarray(test_euler_list)\n",
    "np_test_face_grid = np.asarray(test_face_grid)\n",
    "np_test_left_eye_grid = np.asarray(test_left_eye_grid)\n",
    "np_test_right_eye_grid = np.asarray(test_right_eye_grid)\n",
    "np_test_facepos = np.asarray(test_facepos)\n",
    "np_test_left_eye_right_top = np.asarray(test_left_eye_right_top)\n",
    "np_test_left_eye_left_bottom = np.asarray(test_left_eye_left_bottom)\n",
    "np_test_right_eye_right_top = np.asarray(test_right_eye_right_top)\n",
    "np_test_right_eye_left_bottom = np.asarray(test_right_eye_left_bottom)\n",
    "\n",
    "train_dir=\"/special/jbpark/TabS6\"+image_type+\"Data/\"+target+\"train_dataset/\"\n",
    "Path(train_dir).mkdir(parents=True, exist_ok=True)\n",
    "test_dir=\"/special/jbpark/TabS6\"+image_type+\"Data/\"+target+\"test_dataset/\"\n",
    "Path(test_dir).mkdir(parents=True, exist_ok=True)\n",
    "\n",
    "np.save(train_dir+\"gaze_point.npy\",np_train_gaze_point_list)\n",
    "np.save(train_dir+\"left_eye.npy\",np_train_left_eye_list)\n",
    "np.save(train_dir+\"right_eye.npy\",np_train_right_eye_list)\n",
    "np.save(train_dir+\"euler.npy\",np_train_euler_list)\n",
    "np.save(train_dir+\"face_grid.npy\",np_train_face_grid)\n",
    "np.save(train_dir+\"left_eye_grid.npy\",np_train_left_eye_grid)\n",
    "np.save(train_dir+\"right_eye_grid.npy\",np_train_right_eye_grid)\n",
    "np.save(train_dir+\"facepos.npy\",np_train_facepos)\n",
    "np.save(train_dir+\"left_eye_right_top.npy\",np_train_left_eye_right_top)\n",
    "np.save(train_dir+\"left_eye_left_bottom.npy\",np_train_left_eye_left_bottom)\n",
    "np.save(train_dir+\"right_eye_right_top.npy\",np_train_right_eye_right_top)\n",
    "np.save(train_dir+\"right_eye_left_bottom.npy\",np_train_right_eye_left_bottom)\n",
    "\n",
    "\n",
    "np.save(test_dir+\"gaze_point.npy\",np_test_gaze_point_list)\n",
    "np.save(test_dir+\"left_eye.npy\",np_test_left_eye_list)\n",
    "np.save(test_dir+\"right_eye.npy\",np_test_right_eye_list)\n",
    "np.save(test_dir+\"euler.npy\",np_test_euler_list)\n",
    "np.save(test_dir+\"face_grid.npy\",np_test_face_grid)\n",
    "np.save(test_dir+\"left_eye_grid.npy\",np_test_left_eye_grid)\n",
    "np.save(test_dir+\"right_eye_grid.npy\",np_test_right_eye_grid)\n",
    "np.save(test_dir+\"facepos.npy\",np_test_facepos)\n",
    "np.save(test_dir+\"left_eye_right_top.npy\",np_test_left_eye_right_top)\n",
    "np.save(test_dir+\"left_eye_left_bottom.npy\",np_test_left_eye_left_bottom)\n",
    "np.save(test_dir+\"right_eye_right_top.npy\",np_test_right_eye_right_top)\n",
    "np.save(test_dir+\"right_eye_left_bottom.npy\",np_test_right_eye_left_bottom)"
   ],
   "outputs": [
    {
     "output_type": "stream",
     "name": "stderr",
     "text": [
      "/lvmdata/jbpark/.anaconda3/envs/tensorflow20/lib/python3.7/site-packages/numpy/core/_asarray.py:83: VisibleDeprecationWarning: Creating an ndarray from ragged nested sequences (which is a list-or-tuple of lists-or-tuples-or ndarrays with different lengths or shapes) is deprecated. If you meant to do this, you must specify 'dtype=object' when creating the ndarray\n",
      "  return array(a, dtype, copy=False, order=order)\n"
     ]
    }
   ],
   "metadata": {}
  },
  {
   "cell_type": "code",
   "execution_count": 10,
   "source": [
    "loaded_test_gaze_point = np.load(test_dir+\"gaze_point.npy\")\n",
    "loaded_test_gaze_point"
   ],
   "outputs": [
    {
     "output_type": "execute_result",
     "data": {
      "text/plain": [
       "array([[1039.,  566.],\n",
       "       [1359.,  110.],\n",
       "       [  79.,  680.],\n",
       "       ...,\n",
       "       [  79.,  680.],\n",
       "       [1519.,  110.],\n",
       "       [1519., 1478.]])"
      ]
     },
     "metadata": {},
     "execution_count": 10
    }
   ],
   "metadata": {}
  },
  {
   "cell_type": "code",
   "execution_count": null,
   "source": [],
   "outputs": [],
   "metadata": {}
  }
 ],
 "metadata": {
  "kernelspec": {
   "name": "python3",
   "display_name": "Python 3.8.2 64-bit"
  },
  "language_info": {
   "codemirror_mode": {
    "name": "ipython",
    "version": 3
   },
   "file_extension": ".py",
   "mimetype": "text/x-python",
   "name": "python",
   "nbconvert_exporter": "python",
   "pygments_lexer": "ipython3",
   "version": "3.8.2"
  },
  "interpreter": {
   "hash": "31f2aee4e71d21fbe5cf8b01ff0e069b9275f58929596ceb00d14d90e3e16cd6"
  }
 },
 "nbformat": 4,
 "nbformat_minor": 4
}